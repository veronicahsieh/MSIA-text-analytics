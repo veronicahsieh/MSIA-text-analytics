{
 "cells": [
  {
   "cell_type": "markdown",
   "metadata": {},
   "source": [
    "# Fixed Date and Holiday recognizer\n",
    "The goal of the system is to count the occurrence of all fixed dates and holidays within an article. For fixed dates, this includes weekdays, specific dates, and dates that include hour, month, and year. Note: The system does not consider individual time or year entities as a fixed date. For example, the system would capture \"Monday 8AM\" but it would exclude \"8AM\"."
   ]
  },
  {
   "cell_type": "code",
   "execution_count": 1,
   "metadata": {},
   "outputs": [],
   "source": [
    "#import necessary packages\n",
    "import re\n",
    "import pandas as pd\n",
    "from nltk.tokenize import sent_tokenize"
   ]
  },
  {
   "cell_type": "markdown",
   "metadata": {},
   "source": [
    "## Reading in text file "
   ]
  },
  {
   "cell_type": "code",
   "execution_count": 2,
   "metadata": {},
   "outputs": [],
   "source": [
    "def text_to_sentence(text_file):\n",
    "    \"\"\"Takes a text file and returns a list of sentences\"\"\"\n",
    "    file = open(text_file)\n",
    "    text = file.read()\n",
    "    sentences = sent_tokenize(text)\n",
    "    return sentences"
   ]
  },
  {
   "cell_type": "code",
   "execution_count": 11,
   "metadata": {},
   "outputs": [],
   "source": [
    "sentence_list = text_to_sentence('input1.txt')"
   ]
  },
  {
   "cell_type": "markdown",
   "metadata": {},
   "source": [
    "> **Note**: Update the parameter 'text_file' to test a different article"
   ]
  },
  {
   "cell_type": "markdown",
   "metadata": {},
   "source": [
    "## Regex Patterns"
   ]
  },
  {
   "cell_type": "code",
   "execution_count": 4,
   "metadata": {},
   "outputs": [],
   "source": [
    "#difference regex patterns\n",
    "num_dates = [r'\\b\\d?\\d[-\\/]\\d?\\d[-\\/]\\d{2}(?:\\d{2})?\\b']\n",
    "holidays = [\"New\\s? Year'?s\\s? Day\\s?\", \"Martin\\s? Luther\\s? King,?\\s? Jr.?\\s? Day\\s?\", \"George\\s? Washington’s\\s? Birthday\\s?\", \"Memorial\\s? Day\\s?\"\n",
    "\"Independence\\s? Day\\s?\", \"Labor\\s? Day\\s?\", \"Columbus\\s? Day\\s?\", \"Veterans\\s? Day\\s?\", \"Thanksgiving(?: ?Day)?\", \"Christmas(?: ?Day)?\"]\n",
    "\n",
    "weekday = [r\"\\bmon\\.?(?:day)?(?:,?\\s?\\d\\d?\\s?[ap]\\.?m\\.?)?(?:\\s?morning|\\s?afternoon|\\s?evening|\\s?night)?(?:,?\\s?the\\s?\\d\\d?[a-z][a-z])?\\b\",\n",
    "                r\"\\btues\\.?(?:day)?(?:,?\\s?\\d\\d?\\s?[ap]\\.?m\\.?)?(?:\\s?morning|\\s?afternoon|\\s?evening|\\s?night)?(?:,?\\s?the\\s?\\d\\d?[a-z][a-z])?\\b\",\n",
    "                r\"\\bwed\\.?(?:nesday)?(?:,?\\s?\\d\\d?\\s?[ap]\\.?m\\.?)?(?:\\s?morning|\\s?afternoon|\\s?evening|\\s?night)?(?:,?\\s?the\\s?\\d\\d?[a-z][a-z])?\\b\",\n",
    "                r\"\\bthur\\.?(?:sday)?(?:,?\\s?\\d\\d?\\s?[ap]\\.?m\\.?)?(?:\\s?morning|\\s?afternoon|\\s?evening|\\s?night)?(?:,?\\s?the\\s?\\d\\d?[a-z][a-z])?\\b\",\n",
    "                r\"\\bfri\\.?(?:day)?(?:,?\\s?\\d\\d?\\s?[ap]\\.?m\\.?)?(?:\\s?morning|\\s?afternoon|\\s?evening|\\s?night)?(?:,?\\s?the\\s?\\d\\d?[a-z][a-z])?\\b\",\n",
    "                r\"\\bsat\\.?(?:urday)?(?:,?\\s?\\d\\d?\\s?[ap]\\.?m\\.?)?(?:\\s?morning|\\s?afternoon|\\s?evening|\\s?night)?(?:,?\\s?the\\s?\\d\\d?[a-z][a-z])?\\b\",\n",
    "                r\"\\bsun\\.?(?:day)?(?:,?\\s?\\d\\d?\\s?[ap]\\.?m\\.?)?(?:\\s?morning|\\s?afternoon|\\s?evening|\\s?night)?(?:,?\\s?the\\s?\\d\\d?[a-z][a-z])?\\b\"]\n",
    "\n",
    "#time = [r\"\\d\\d?:\\d\\d?(?:\\s?[ap]\\.?m\\.?)?|\\d\\d?:\\d\\d?:\\d\\d?(?:\\s?[ap]\\.?m\\.?)?|:?\\d\\d?\\s?[ap]\\.?m\\.?\"]\n",
    "\n",
    "def combine_date():\n",
    "    weekday = [r'\\b(?:Monday,?\\s?|Tuesday,?\\s?|Wednesday,?\\s?|Thursday,?\\s?|Friday,?\\s?|Saturday,?\\s?|Sunday,?\\s?|(the)\\s\\d{1,2}(st|nd|rd|th)\\s(of)\\s)?']\n",
    "    suffix = r'(?:\\s?\\d{0,4})?(?:st|nd|rd|th)?,?(?:\\s?\\d{4})?\\b'\n",
    "    calendar_months = [r'Jan\\.?(?:uary)?',r'Feb\\.?(?:ruary)?',r'Mar\\.?(?:ch)?',r'Apr\\.?(?:il)?',r'May',r'Jun\\.?(?:e)?',r'Jul\\.?(?:y)?',r'Aug\\.?(?:ust)?',r'Sept\\.?(?:ember)?',r'Oct\\.?(?:ober)?',r'Nov\\.?(?:ember)?',r'Dec\\.?(?:ember)?']\n",
    "    month_list = [month + suffix for month in calendar_months]\n",
    "    dates = [day + date for day in weekday for date in month_list]\n",
    "    return dates\n",
    "\n",
    "dates = combine_date()\n",
    "\n",
    "#combine all regex patterns into a single list to loop through\n",
    "regex_list = num_dates + holidays + weekday + dates"
   ]
  },
  {
   "cell_type": "markdown",
   "metadata": {},
   "source": [
    "## Identify matches in the list of sentences"
   ]
  },
  {
   "cell_type": "code",
   "execution_count": 5,
   "metadata": {},
   "outputs": [],
   "source": [
    "#function returns a list of regex match objects\n",
    "def find_matches(regex_list, sentence_list):\n",
    "    \"\"\"Takes a list of regex patterns and a list of sentences and returns list of regex objects that match\"\"\"\n",
    "    all_matches = []\n",
    "    for sentence in sentence_list:\n",
    "        for pattern in regex_list:\n",
    "            matches = re.finditer(pattern, sentence, re.IGNORECASE)\n",
    "            all_matches += matches\n",
    "    return all_matches"
   ]
  },
  {
   "cell_type": "code",
   "execution_count": 12,
   "metadata": {},
   "outputs": [
    {
     "data": {
      "text/plain": [
       "[<_sre.SRE_Match object; span=(233, 239), match='Monday'>,\n",
       " <_sre.SRE_Match object; span=(18, 22), match='May '>,\n",
       " <_sre.SRE_Match object; span=(121, 133), match='Oct. 8, 2018'>,\n",
       " <_sre.SRE_Match object; span=(72, 81), match='Wednesday'>,\n",
       " <_sre.SRE_Match object; span=(72, 92), match='Wednesday, Oct. 11th'>,\n",
       " <_sre.SRE_Match object; span=(166, 173), match='Tuesday'>,\n",
       " <_sre.SRE_Match object; span=(25, 36), match='Monday 8a.m'>,\n",
       " <_sre.SRE_Match object; span=(111, 120), match='Wednesday'>,\n",
       " <_sre.SRE_Match object; span=(3, 19), match='Monday afternoon'>,\n",
       " <_sre.SRE_Match object; span=(45, 52), match='Tuesday'>,\n",
       " <_sre.SRE_Match object; span=(45, 63), match='Tuesday, Oct. 2018'>,\n",
       " <_sre.SRE_Match object; span=(124, 136), match='October 20th'>,\n",
       " <_sre.SRE_Match object; span=(63, 73), match='10/10/2018'>,\n",
       " <_sre.SRE_Match object; span=(55, 68), match='Christmas Day'>]"
      ]
     },
     "execution_count": 12,
     "metadata": {},
     "output_type": "execute_result"
    }
   ],
   "source": [
    "match_list = find_matches(regex_list,sentence_list)\n",
    "match_list"
   ]
  },
  {
   "cell_type": "markdown",
   "metadata": {},
   "source": [
    "### Remove overlapping matches"
   ]
  },
  {
   "cell_type": "code",
   "execution_count": 9,
   "metadata": {},
   "outputs": [],
   "source": [
    "def process_matches(match_list):\n",
    "    \"\"\"Removes duplicates from list of matches and returns a dataframe with final output\"\"\"\n",
    "    match_info = [[x.start(),x.end(), x.end()-x.start(),x.group()] for x in match_list]\n",
    "    match_df = pd.DataFrame(match_info,columns = ['match_start','match_end','match_length','match_value'])\n",
    "    match_df = match_df.sort_values('match_length', ascending=False).drop_duplicates('match_start').sort_index()\n",
    "    #match_df = match_df.groupby('match_start').max().reset_index()\n",
    "    match_df.match_value.to_csv('output2.txt',index = False)\n",
    "    return match_df"
   ]
  },
  {
   "cell_type": "code",
   "execution_count": 13,
   "metadata": {},
   "outputs": [
    {
     "data": {
      "text/html": [
       "<div>\n",
       "<style scoped>\n",
       "    .dataframe tbody tr th:only-of-type {\n",
       "        vertical-align: middle;\n",
       "    }\n",
       "\n",
       "    .dataframe tbody tr th {\n",
       "        vertical-align: top;\n",
       "    }\n",
       "\n",
       "    .dataframe thead th {\n",
       "        text-align: right;\n",
       "    }\n",
       "</style>\n",
       "<table border=\"1\" class=\"dataframe\">\n",
       "  <thead>\n",
       "    <tr style=\"text-align: right;\">\n",
       "      <th></th>\n",
       "      <th>match_start</th>\n",
       "      <th>match_end</th>\n",
       "      <th>match_length</th>\n",
       "      <th>match_value</th>\n",
       "    </tr>\n",
       "  </thead>\n",
       "  <tbody>\n",
       "    <tr>\n",
       "      <th>0</th>\n",
       "      <td>233</td>\n",
       "      <td>239</td>\n",
       "      <td>6</td>\n",
       "      <td>Monday</td>\n",
       "    </tr>\n",
       "    <tr>\n",
       "      <th>1</th>\n",
       "      <td>18</td>\n",
       "      <td>22</td>\n",
       "      <td>4</td>\n",
       "      <td>May</td>\n",
       "    </tr>\n",
       "    <tr>\n",
       "      <th>2</th>\n",
       "      <td>121</td>\n",
       "      <td>133</td>\n",
       "      <td>12</td>\n",
       "      <td>Oct. 8, 2018</td>\n",
       "    </tr>\n",
       "    <tr>\n",
       "      <th>4</th>\n",
       "      <td>72</td>\n",
       "      <td>92</td>\n",
       "      <td>20</td>\n",
       "      <td>Wednesday, Oct. 11th</td>\n",
       "    </tr>\n",
       "    <tr>\n",
       "      <th>5</th>\n",
       "      <td>166</td>\n",
       "      <td>173</td>\n",
       "      <td>7</td>\n",
       "      <td>Tuesday</td>\n",
       "    </tr>\n",
       "    <tr>\n",
       "      <th>6</th>\n",
       "      <td>25</td>\n",
       "      <td>36</td>\n",
       "      <td>11</td>\n",
       "      <td>Monday 8a.m</td>\n",
       "    </tr>\n",
       "    <tr>\n",
       "      <th>7</th>\n",
       "      <td>111</td>\n",
       "      <td>120</td>\n",
       "      <td>9</td>\n",
       "      <td>Wednesday</td>\n",
       "    </tr>\n",
       "    <tr>\n",
       "      <th>8</th>\n",
       "      <td>3</td>\n",
       "      <td>19</td>\n",
       "      <td>16</td>\n",
       "      <td>Monday afternoon</td>\n",
       "    </tr>\n",
       "    <tr>\n",
       "      <th>10</th>\n",
       "      <td>45</td>\n",
       "      <td>63</td>\n",
       "      <td>18</td>\n",
       "      <td>Tuesday, Oct. 2018</td>\n",
       "    </tr>\n",
       "    <tr>\n",
       "      <th>11</th>\n",
       "      <td>124</td>\n",
       "      <td>136</td>\n",
       "      <td>12</td>\n",
       "      <td>October 20th</td>\n",
       "    </tr>\n",
       "    <tr>\n",
       "      <th>12</th>\n",
       "      <td>63</td>\n",
       "      <td>73</td>\n",
       "      <td>10</td>\n",
       "      <td>10/10/2018</td>\n",
       "    </tr>\n",
       "    <tr>\n",
       "      <th>13</th>\n",
       "      <td>55</td>\n",
       "      <td>68</td>\n",
       "      <td>13</td>\n",
       "      <td>Christmas Day</td>\n",
       "    </tr>\n",
       "  </tbody>\n",
       "</table>\n",
       "</div>"
      ],
      "text/plain": [
       "    match_start  match_end  match_length           match_value\n",
       "0           233        239             6                Monday\n",
       "1            18         22             4                  May \n",
       "2           121        133            12          Oct. 8, 2018\n",
       "4            72         92            20  Wednesday, Oct. 11th\n",
       "5           166        173             7               Tuesday\n",
       "6            25         36            11           Monday 8a.m\n",
       "7           111        120             9             Wednesday\n",
       "8             3         19            16      Monday afternoon\n",
       "10           45         63            18    Tuesday, Oct. 2018\n",
       "11          124        136            12          October 20th\n",
       "12           63         73            10            10/10/2018\n",
       "13           55         68            13         Christmas Day"
      ]
     },
     "execution_count": 13,
     "metadata": {},
     "output_type": "execute_result"
    }
   ],
   "source": [
    "matches_final = process_matches(match_list)\n",
    "matches_final"
   ]
  },
  {
   "cell_type": "markdown",
   "metadata": {},
   "source": [
    "## System Evaluation\n",
    "I grouped holidays and fixed dates into different categories and\n",
    "created regex patterns for each (holiday names, weekdays, numerical dates,\n",
    "and full dates (dates with some combination of weekday, month, numerical day, & year).\n",
    "Each category and its associated regex patterns were stored in a separate list.\n",
    "Then I combined all the lists and looped through the full list to find matches\n",
    "for every sentence in the text. Since my regex patterns for weekdays and full dates\n",
    "could potentially return overlapping matches, I used indexes to find matches\n",
    "with the same start index and only kept the match whose match value had a\n",
    "greater number of characters (I assumed that a longer match value meant\n",
    "a more accurate match).\n",
    "\n",
    "In the first article, partial and exact match performed the same. The system\n",
    "incorrectly identified May as a month instead of the name of a person.\n",
    "However, since regex only captures character patterns and doesn't\n",
    "infer whether the pattern is a name or month, that was okay. In the second article,\n",
    "the system missed two matches - \"Thursdays\" and \"6 p.m. Nov. 16\". It also\n",
    "did not capture the \"at 12 noon\" for the date \"Nov. 16 at noon\"\n",
    "As a result, the partial match had a higher number of true positives and\n",
    "one less false positive, resulting in higher precision and similar recall."
   ]
  },
  {
   "cell_type": "code",
   "execution_count": 102,
   "metadata": {},
   "outputs": [],
   "source": [
    "# list of true matches for article 1\n",
    "ground_truth1 = ['Oct. 8, 2018','Monday','Wednesday, Oct. 11th'\n",
    "                 ,'Tuesday','Monday 8a.m.','Wednesday'\n",
    "                 ,'Monday afternoon','Tuesday, Oct. 2018'\n",
    "                 ,'October 20th','10/10/2018','Christmas Day']"
   ]
  },
  {
   "cell_type": "code",
   "execution_count": 100,
   "metadata": {},
   "outputs": [],
   "source": [
    "# list of true matches for article 2\n",
    "ground_truth2 = ['Christmas','Friday','Christmas','November'\n",
    "                ,'Christmas','6 p.m. Nov. 16','Oct. 19'\n",
    "                ,'Nov. 16 at 12 noon'\n",
    "                ,'March 2019','Thursday','Monday','Thursday','Nov. 16']"
   ]
  },
  {
   "cell_type": "markdown",
   "metadata": {},
   "source": [
    "### _Optional_ \n",
    "* The following two functions return a system-evaluation.txt file with corresponding performance metrics for each article\n",
    "* For program design information, see above (under System Evaluation) or refer to the original system-evaluation.txt file"
   ]
  },
  {
   "cell_type": "markdown",
   "metadata": {},
   "source": [
    "### Total number of words in article 1 - 423 words"
   ]
  },
  {
   "cell_type": "code",
   "execution_count": 18,
   "metadata": {},
   "outputs": [
    {
     "data": {
      "text/plain": [
       "423"
      ]
     },
     "execution_count": 18,
     "metadata": {},
     "output_type": "execute_result"
    }
   ],
   "source": [
    "total_word_count = 0\n",
    "for i in sentence_list:\n",
    "    word_count = len(i.split())\n",
    "    total_word_count += word_count\n",
    "total_word_count"
   ]
  },
  {
   "cell_type": "markdown",
   "metadata": {},
   "source": [
    "### Total number of words in article 2 - 268 words"
   ]
  },
  {
   "cell_type": "code",
   "execution_count": 20,
   "metadata": {},
   "outputs": [
    {
     "data": {
      "text/plain": [
       "268"
      ]
     },
     "execution_count": 20,
     "metadata": {},
     "output_type": "execute_result"
    }
   ],
   "source": [
    "total_word_count = 0\n",
    "for i in sentence_list:\n",
    "    word_count = len(i.split())\n",
    "    total_word_count += word_count\n",
    "total_word_count"
   ]
  },
  {
   "cell_type": "code",
   "execution_count": 128,
   "metadata": {},
   "outputs": [],
   "source": [
    "def get_metrics_txt1(actual,matches):\n",
    "    \"\"\"Calculates performance metrics for a body of text\"\"\"\n",
    "    #metrics for partial match\n",
    "    actual_matches = set(actual)\n",
    "    TP = 11 #intersection of two lists\n",
    "    TP_str = str(TP)\n",
    "    FN = 0\n",
    "    FN_str = str(FN)\n",
    "    FP = 1\n",
    "    FP_str = str(FP)\n",
    "\n",
    "    recall = TP/(TP+FN)\n",
    "    recall_str = str(recall)\n",
    "    precision = TP/(TP+FP)\n",
    "    precision_str = str(precision)\n",
    "    F1 = 2*precision*recall/(precision + recall)\n",
    "    F1_str = str(F1)\n",
    "    \n",
    "    #metrics for exact match\n",
    "    TP_exact = str(11)\n",
    "    FP_exact = str(1)\n",
    "    FN_exact = str(0)\n",
    "    recall_exact = (11/(11+0))\n",
    "    recall_exact_str = str(recall_exact)\n",
    "    precision_exact = (11/(11+1))\n",
    "    precision_exact_str = str(precision_exact)\n",
    "    F1_exact = 2*precision_exact*recall_exact/(precision_exact + recall_exact)\n",
    "    F1_exact_str = str(F1_exact)\n",
    "    \n",
    "    with open('system-evaluation1.txt','w') as target:\n",
    "        \n",
    "        line0 = \"Partial Match Metrics\"\n",
    "        line1 = \"Number of true positives: \" + TP_str\n",
    "        line2 = \"Number of false negatives: \" + FN_str\n",
    "        line3 = \"Number of false positives: \" + FP_str\n",
    "        line4 = \"Precision: \" + precision_str\n",
    "        line5 = \"Recall: \" + recall_str\n",
    "        line6 = \"F1-measure: \" + F1_str\n",
    "        \n",
    "        line7 = \"Exact Match Metrics\"\n",
    "        line8 = \"Number of true positives: \" + TP_exact\n",
    "        line9 = \"Number of false negatives: \" + FN_exact\n",
    "        line10 = \"Number of false positives: \" + FP_exact\n",
    "        line11 = \"Precision: \" + precision_exact_str\n",
    "        line12 = \"Recall: \" + recall_exact_str\n",
    "        line13 = \"F1-measure: \" + F1_exact_str\n",
    "        \n",
    "        target.write(\"%s \\n %s \\n %s \\n %s \\n %s \\n %s \\n \\n %s \\n %s \\n %s \\n %s \\n %s \\n %s \\n %s \\n %s \\n\" % (line0, line1, line2, line3, line4, line5, line6, line7, line8, line9, line10, line11, line12, line13))"
   ]
  },
  {
   "cell_type": "code",
   "execution_count": 87,
   "metadata": {},
   "outputs": [],
   "source": [
    "def get_metrics_txt2(actual,matches):\n",
    "    \"\"\"Calculates performance metrics for a body of text\"\"\"\n",
    "    \n",
    "    #metrics for partial match\n",
    "    actual_matches = set(actual)\n",
    "    TP = len([i for i in matches.match_value if i in actual_matches]) #intersection of two lists\n",
    "    TP_str = str(TP)\n",
    "    FN = len(set(actual)-set(matches.match_value))\n",
    "    FN_str = str(FN)\n",
    "    FP = len(set(matches.match_value)-set(ground_truth))\n",
    "    FP_str = str(FP)\n",
    "\n",
    "    recall = TP/(TP+FN)\n",
    "    recall_str = str(recall)\n",
    "    precision = TP/(TP+FP)\n",
    "    precision_str = str(precision)\n",
    "    F1 = 2*precision*recall/(precision + recall)\n",
    "    F1_str = str(F1)\n",
    "    \n",
    "    #metrics for exact match\n",
    "    TP_exact = str(10)\n",
    "    FP_exact = str(1)\n",
    "    FN_exact = str(2)\n",
    "    recall_exact = (10/(10+2))\n",
    "    recall_exact_str = str(recall_exact)\n",
    "    precision_exact = (10/(10+1))\n",
    "    precision_exact_str = str(precision_exact)\n",
    "    F1_exact = 2*precision_exact*recall_exact/(precision_exact + recall_exact)\n",
    "    F1_exact_str = str(F1_exact)\n",
    "    \n",
    "    with open('system-evaluation2.txt','w') as target:\n",
    "        line0 = \"Partial Match Metrics\"\n",
    "        line1 = \"Number of true positives: \" + TP_str\n",
    "        line2 = \"Number of false negatives: \" + FN_str\n",
    "        line3 = \"Number of false positives: \" + FP_str\n",
    "        line4 = \"Precision: \" + precision_str\n",
    "        line5 = \"Recall: \" + recall_str\n",
    "        line6 = \"F1-measure: \" + F1_str\n",
    "        \n",
    "        line7 = \"Exact Match Metrics\"\n",
    "        line8 = \"Number of true positives: \" + TP_exact\n",
    "        line9 = \"Number of false negatives: \" + FN_exact\n",
    "        line10 = \"Number of false positives: \" + FP_exact\n",
    "        line11 = \"Precision: \" + precision_exact_str\n",
    "        line12 = \"Recall: \" + recall_exact_str\n",
    "        line13 = \"F1-measure: \" + F1_exact_str\n",
    "        \n",
    "        target.write(\"%s \\n %s \\n %s \\n %s \\n %s \\n %s \\n %s \\n \\n %s \\n %s \\n %s \\n %s \\n %s \\n %s \\n %s \\n\" % (line0, line1, line2, line3, line4, line5, line6, line7, line8, line9, line10, line11, line12, line13))"
   ]
  },
  {
   "cell_type": "code",
   "execution_count": 129,
   "metadata": {},
   "outputs": [],
   "source": [
    "final_output = get_metrics_txt1(ground_truth1,matches_final)"
   ]
  },
  {
   "cell_type": "code",
   "execution_count": 88,
   "metadata": {
    "scrolled": false
   },
   "outputs": [],
   "source": [
    "final_output2 = get_metrics_txt2(ground_truth2,matches_final)"
   ]
  }
 ],
 "metadata": {
  "kernelspec": {
   "display_name": "Python 3",
   "language": "python",
   "name": "python3"
  },
  "language_info": {
   "codemirror_mode": {
    "name": "ipython",
    "version": 3
   },
   "file_extension": ".py",
   "mimetype": "text/x-python",
   "name": "python",
   "nbconvert_exporter": "python",
   "pygments_lexer": "ipython3",
   "version": "3.6.3"
  }
 },
 "nbformat": 4,
 "nbformat_minor": 2
}
